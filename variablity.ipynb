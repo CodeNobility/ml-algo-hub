{
 "cells": [
  {
   "cell_type": "code",
   "execution_count": 1,
   "id": "703eb2b9",
   "metadata": {},
   "outputs": [],
   "source": [
    "import numpy as np\n",
    "import pandas as pd\n",
    "import matplotlib.pyplot as plt\n",
    "import seaborn as sns"
   ]
  },
  {
   "cell_type": "code",
   "execution_count": 3,
   "id": "6bbcd052",
   "metadata": {},
   "outputs": [],
   "source": [
    "data=pd.read_csv('dataset/Finance_Data.csv')"
   ]
  },
  {
   "cell_type": "code",
   "execution_count": 4,
   "id": "177e8cc1",
   "metadata": {},
   "outputs": [
    {
     "data": {
      "text/html": [
       "<div>\n",
       "<style scoped>\n",
       "    .dataframe tbody tr th:only-of-type {\n",
       "        vertical-align: middle;\n",
       "    }\n",
       "\n",
       "    .dataframe tbody tr th {\n",
       "        vertical-align: top;\n",
       "    }\n",
       "\n",
       "    .dataframe thead th {\n",
       "        text-align: right;\n",
       "    }\n",
       "</style>\n",
       "<table border=\"1\" class=\"dataframe\">\n",
       "  <thead>\n",
       "    <tr style=\"text-align: right;\">\n",
       "      <th></th>\n",
       "      <th>gender</th>\n",
       "      <th>age</th>\n",
       "      <th>Investment_Avenues</th>\n",
       "      <th>Mutual_Funds</th>\n",
       "      <th>Equity_Market</th>\n",
       "      <th>Debentures</th>\n",
       "      <th>Government_Bonds</th>\n",
       "      <th>Fixed_Deposits</th>\n",
       "      <th>PPF</th>\n",
       "      <th>Gold</th>\n",
       "      <th>...</th>\n",
       "      <th>Duration</th>\n",
       "      <th>Invest_Monitor</th>\n",
       "      <th>Expect</th>\n",
       "      <th>Avenue</th>\n",
       "      <th>What are your savings objectives?</th>\n",
       "      <th>Reason_Equity</th>\n",
       "      <th>Reason_Mutual</th>\n",
       "      <th>Reason_Bonds</th>\n",
       "      <th>Reason_FD</th>\n",
       "      <th>Source</th>\n",
       "    </tr>\n",
       "  </thead>\n",
       "  <tbody>\n",
       "    <tr>\n",
       "      <th>0</th>\n",
       "      <td>Female</td>\n",
       "      <td>34</td>\n",
       "      <td>Yes</td>\n",
       "      <td>1</td>\n",
       "      <td>2</td>\n",
       "      <td>5</td>\n",
       "      <td>3</td>\n",
       "      <td>7</td>\n",
       "      <td>6</td>\n",
       "      <td>4</td>\n",
       "      <td>...</td>\n",
       "      <td>1-3 years</td>\n",
       "      <td>Monthly</td>\n",
       "      <td>20%-30%</td>\n",
       "      <td>Mutual Fund</td>\n",
       "      <td>Retirement Plan</td>\n",
       "      <td>Capital Appreciation</td>\n",
       "      <td>Better Returns</td>\n",
       "      <td>Safe Investment</td>\n",
       "      <td>Fixed Returns</td>\n",
       "      <td>Newspapers and Magazines</td>\n",
       "    </tr>\n",
       "    <tr>\n",
       "      <th>1</th>\n",
       "      <td>Female</td>\n",
       "      <td>23</td>\n",
       "      <td>Yes</td>\n",
       "      <td>4</td>\n",
       "      <td>3</td>\n",
       "      <td>2</td>\n",
       "      <td>1</td>\n",
       "      <td>5</td>\n",
       "      <td>6</td>\n",
       "      <td>7</td>\n",
       "      <td>...</td>\n",
       "      <td>More than 5 years</td>\n",
       "      <td>Weekly</td>\n",
       "      <td>20%-30%</td>\n",
       "      <td>Mutual Fund</td>\n",
       "      <td>Health Care</td>\n",
       "      <td>Dividend</td>\n",
       "      <td>Better Returns</td>\n",
       "      <td>Safe Investment</td>\n",
       "      <td>High Interest Rates</td>\n",
       "      <td>Financial Consultants</td>\n",
       "    </tr>\n",
       "    <tr>\n",
       "      <th>2</th>\n",
       "      <td>Male</td>\n",
       "      <td>30</td>\n",
       "      <td>Yes</td>\n",
       "      <td>3</td>\n",
       "      <td>6</td>\n",
       "      <td>4</td>\n",
       "      <td>2</td>\n",
       "      <td>5</td>\n",
       "      <td>1</td>\n",
       "      <td>7</td>\n",
       "      <td>...</td>\n",
       "      <td>3-5 years</td>\n",
       "      <td>Daily</td>\n",
       "      <td>20%-30%</td>\n",
       "      <td>Equity</td>\n",
       "      <td>Retirement Plan</td>\n",
       "      <td>Capital Appreciation</td>\n",
       "      <td>Tax Benefits</td>\n",
       "      <td>Assured Returns</td>\n",
       "      <td>Fixed Returns</td>\n",
       "      <td>Television</td>\n",
       "    </tr>\n",
       "    <tr>\n",
       "      <th>3</th>\n",
       "      <td>Male</td>\n",
       "      <td>22</td>\n",
       "      <td>Yes</td>\n",
       "      <td>2</td>\n",
       "      <td>1</td>\n",
       "      <td>3</td>\n",
       "      <td>7</td>\n",
       "      <td>6</td>\n",
       "      <td>4</td>\n",
       "      <td>5</td>\n",
       "      <td>...</td>\n",
       "      <td>Less than 1 year</td>\n",
       "      <td>Daily</td>\n",
       "      <td>10%-20%</td>\n",
       "      <td>Equity</td>\n",
       "      <td>Retirement Plan</td>\n",
       "      <td>Dividend</td>\n",
       "      <td>Fund Diversification</td>\n",
       "      <td>Tax Incentives</td>\n",
       "      <td>High Interest Rates</td>\n",
       "      <td>Internet</td>\n",
       "    </tr>\n",
       "    <tr>\n",
       "      <th>4</th>\n",
       "      <td>Female</td>\n",
       "      <td>24</td>\n",
       "      <td>No</td>\n",
       "      <td>2</td>\n",
       "      <td>1</td>\n",
       "      <td>3</td>\n",
       "      <td>6</td>\n",
       "      <td>4</td>\n",
       "      <td>5</td>\n",
       "      <td>7</td>\n",
       "      <td>...</td>\n",
       "      <td>Less than 1 year</td>\n",
       "      <td>Daily</td>\n",
       "      <td>20%-30%</td>\n",
       "      <td>Equity</td>\n",
       "      <td>Retirement Plan</td>\n",
       "      <td>Capital Appreciation</td>\n",
       "      <td>Better Returns</td>\n",
       "      <td>Safe Investment</td>\n",
       "      <td>Risk Free</td>\n",
       "      <td>Internet</td>\n",
       "    </tr>\n",
       "  </tbody>\n",
       "</table>\n",
       "<p>5 rows × 24 columns</p>\n",
       "</div>"
      ],
      "text/plain": [
       "   gender  age Investment_Avenues  Mutual_Funds  Equity_Market  Debentures  \\\n",
       "0  Female   34                Yes             1              2           5   \n",
       "1  Female   23                Yes             4              3           2   \n",
       "2    Male   30                Yes             3              6           4   \n",
       "3    Male   22                Yes             2              1           3   \n",
       "4  Female   24                 No             2              1           3   \n",
       "\n",
       "   Government_Bonds  Fixed_Deposits  PPF  Gold  ...           Duration  \\\n",
       "0                 3               7    6     4  ...          1-3 years   \n",
       "1                 1               5    6     7  ...  More than 5 years   \n",
       "2                 2               5    1     7  ...          3-5 years   \n",
       "3                 7               6    4     5  ...   Less than 1 year   \n",
       "4                 6               4    5     7  ...   Less than 1 year   \n",
       "\n",
       "  Invest_Monitor   Expect       Avenue What are your savings objectives?  \\\n",
       "0        Monthly  20%-30%  Mutual Fund                   Retirement Plan   \n",
       "1         Weekly  20%-30%  Mutual Fund                       Health Care   \n",
       "2          Daily  20%-30%       Equity                   Retirement Plan   \n",
       "3          Daily  10%-20%       Equity                   Retirement Plan   \n",
       "4          Daily  20%-30%       Equity                   Retirement Plan   \n",
       "\n",
       "          Reason_Equity         Reason_Mutual     Reason_Bonds  \\\n",
       "0  Capital Appreciation        Better Returns  Safe Investment   \n",
       "1              Dividend        Better Returns  Safe Investment   \n",
       "2  Capital Appreciation          Tax Benefits  Assured Returns   \n",
       "3              Dividend  Fund Diversification   Tax Incentives   \n",
       "4  Capital Appreciation        Better Returns  Safe Investment   \n",
       "\n",
       "             Reason_FD                    Source  \n",
       "0        Fixed Returns  Newspapers and Magazines  \n",
       "1  High Interest Rates     Financial Consultants  \n",
       "2        Fixed Returns                Television  \n",
       "3  High Interest Rates                  Internet  \n",
       "4            Risk Free                  Internet  \n",
       "\n",
       "[5 rows x 24 columns]"
      ]
     },
     "execution_count": 4,
     "metadata": {},
     "output_type": "execute_result"
    }
   ],
   "source": [
    "data.head(5)"
   ]
  },
  {
   "cell_type": "code",
   "execution_count": 5,
   "id": "fad85bbd",
   "metadata": {},
   "outputs": [],
   "source": [
    "min_r=data[\"age\"].min()\n",
    "max_r=data[\"age\"].max()"
   ]
  },
  {
   "cell_type": "code",
   "execution_count": 6,
   "id": "3bfd57be",
   "metadata": {},
   "outputs": [
    {
     "data": {
      "text/plain": [
       "(21, 35)"
      ]
     },
     "execution_count": 6,
     "metadata": {},
     "output_type": "execute_result"
    }
   ],
   "source": [
    "min_r,max_r"
   ]
  },
  {
   "cell_type": "code",
   "execution_count": 7,
   "id": "d63679f1",
   "metadata": {},
   "outputs": [],
   "source": [
    "range=max_r-min_r"
   ]
  },
  {
   "cell_type": "code",
   "execution_count": 8,
   "id": "14a41ca5",
   "metadata": {},
   "outputs": [
    {
     "data": {
      "text/plain": [
       "14"
      ]
     },
     "execution_count": 8,
     "metadata": {},
     "output_type": "execute_result"
    }
   ],
   "source": [
    "range"
   ]
  },
  {
   "cell_type": "code",
   "execution_count": null,
   "id": "5a863a8c",
   "metadata": {},
   "outputs": [],
   "source": []
  }
 ],
 "metadata": {
  "kernelspec": {
   "display_name": "Python 3 (ipykernel)",
   "language": "python",
   "name": "python3"
  },
  "language_info": {
   "codemirror_mode": {
    "name": "ipython",
    "version": 3
   },
   "file_extension": ".py",
   "mimetype": "text/x-python",
   "name": "python",
   "nbconvert_exporter": "python",
   "pygments_lexer": "ipython3",
   "version": "3.11.3"
  }
 },
 "nbformat": 4,
 "nbformat_minor": 5
}
